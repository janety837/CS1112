{
 "cells": [
  {
   "cell_type": "markdown",
   "id": "b287ba08",
   "metadata": {},
   "source": [
    "# CS1112 Project 1\n",
    "**Your NetID(s):**\n",
    "jy926\n",
    "Write your NetID(s) only; do not write your name(s)."
   ]
  },
  {
   "cell_type": "markdown",
   "id": "1487eb1a",
   "metadata": {},
   "source": [
    "## Problem 1 Approximating the cube root"
   ]
  },
  {
   "cell_type": "code",
   "execution_count": null,
   "id": "1f85a146",
   "metadata": {},
   "outputs": [],
   "source": [
    "#approximates cube root of a user-inputed number V by repeatedly averaging the side lengths of a rectangular prism of\n",
    "#volume V. program does this using two different formulas\n",
    "V=float(input('Enter a positive value: '))\n",
    "print(f'Estimate the cube root of {V:.1f}')\n",
    "print('------------------------------------------')\n",
    "print('Step no.   Average over 3   Average over 2')\n",
    "print('------------------------------------------')\n",
    "print(f'{0:4.0f}{1:18.4f}{1:18.4f}')\n",
    "#step 1\n",
    "s3=(2+V)/3 #s3 is s value for avg over 3 formula\n",
    "s2=(1+V)/2 #s2 is s value for avg over 2 formula\n",
    "print(f'{1:4.0f}{s3:18.4f}{s2:18.4f}')\n",
    "#step 2\n",
    "s3=(2*s3+V/s3**2)/3\n",
    "s2=(s2+V/s2**2)/2\n",
    "print(f'{2:4.0f}{s3:18.4f}{s2:18.4f}')\n",
    "#step 3\n",
    "s3=(2*s3+V/s3**2)/3\n",
    "s2=(s2+V/s2**2)/2\n",
    "print(f'{3:4.0f}{s3:18.4f}{s2:18.4f}')\n",
    "#step 4\n",
    "s3=(2*s3+V/s3**2)/3\n",
    "s2=(s2+V/s2**2)/2\n",
    "print(f'{4:4.0f}{s3:18.4f}{s2:18.4f}')\n",
    "#step 5\n",
    "s3=(2*s3+V/s3**2)/3\n",
    "s2=(s2+V/s2**2)/2\n",
    "print(f'{5:4.0f}{s3:18.4f}{s2:18.4f}')"
   ]
  },
  {
   "cell_type": "markdown",
   "id": "e63b2bbb",
   "metadata": {},
   "source": [
    "1. Which averaging method do you prefer?  Why?\n",
    "I prefer the average over 3 method since it obtains the right answer sooner; if neither method obtains the right answer within five steps, the average over 3 method still comes closer.\n",
    "2. How well does this approximation method work with increasing $v$?\n",
    "The final average after five steps remains quite far from the actual cube root; it probably takes more steps to get the right answer."
   ]
  },
  {
   "cell_type": "markdown",
   "id": "644614db",
   "metadata": {},
   "source": [
    "## Problem 2 Book Seller"
   ]
  },
  {
   "cell_type": "code",
   "execution_count": null,
   "id": "4516c9f9",
   "metadata": {},
   "outputs": [],
   "source": [
    "#finds the total cost of an order, including shipping and a discount if the client is a bookstore\n",
    "cover_price=float(input('Enter the cover price: '))\n",
    "num_copies=int(input('Enter the number of copies: '))\n",
    "bookstore_raw=input('Is this a bookstore? (y/n): ')\n",
    "book_cost=cover_price*num_copies #subtotal(before any discounts)\n",
    "#if client is a bookstore, a discount percentage is asked for and the discount is applied to the subtotal.\n",
    "#otherwise, the client pays the entire subtotal\n",
    "if bookstore_raw=='Y' or bookstore_raw=='y':\n",
    "    discount_percent=float(input('Enter the bookstore discount percentage: '))\n",
    "    book_cost=book_cost*(1-discount_percent/100) #discount is applied to the subtotal\n",
    "    print('\\n----Bookstore bill----')\n",
    "else:\n",
    "    print('\\n----Individual customer bill----')\n",
    "print(f'Book cost:{book_cost:22.2f}')\n",
    "shipping_cost=5+0.9*(num_copies-1)\n",
    "print(f'Shipping cost:{shipping_cost:18.2f}')\n",
    "print(f'Total cost:{book_cost+shipping_cost:21.2f}')\n",
    "#total cost is the cost of the books (including discount if applicable) plus shipping cost"
   ]
  },
  {
   "cell_type": "code",
   "execution_count": null,
   "id": "222ddca8",
   "metadata": {},
   "outputs": [],
   "source": []
  }
 ],
 "metadata": {
  "kernelspec": {
   "display_name": "Python 3 (ipykernel)",
   "language": "python",
   "name": "python3"
  },
  "language_info": {
   "codemirror_mode": {
    "name": "ipython",
    "version": 3
   },
   "file_extension": ".py",
   "mimetype": "text/x-python",
   "name": "python",
   "nbconvert_exporter": "python",
   "pygments_lexer": "ipython3",
   "version": "3.11.4"
  }
 },
 "nbformat": 4,
 "nbformat_minor": 5
}
